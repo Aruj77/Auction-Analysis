{
    "cells": [
        {
            "cell_type": "markdown",
            "id": "15b0ead7",
            "metadata": {},
            "source": [
                "## Reading the data file"
            ]
        },
        {
            "cell_type": "code",
            "execution_count": 2,
            "id": "74490053",
            "metadata": {
                "scrolled": false
            },
            "outputs": [
                {
                    "data": {
                        "application/javascript": "\n        if (window._pyforest_update_imports_cell) { window._pyforest_update_imports_cell('import pandas as pd'); }\n    ",
                        "text/plain": [
                            "<IPython.core.display.Javascript object>"
                        ]
                    },
                    "metadata": {},
                    "output_type": "display_data"
                },
                {
                    "data": {
                        "text/html": [
                            "<div>\n",
                            "<style scoped>\n",
                            "    .dataframe tbody tr th:only-of-type {\n",
                            "        vertical-align: middle;\n",
                            "    }\n",
                            "\n",
                            "    .dataframe tbody tr th {\n",
                            "        vertical-align: top;\n",
                            "    }\n",
                            "\n",
                            "    .dataframe thead th {\n",
                            "        text-align: right;\n",
                            "    }\n",
                            "</style>\n",
                            "<table border=\"1\" class=\"dataframe\">\n",
                            "  <thead>\n",
                            "    <tr style=\"text-align: right;\">\n",
                            "      <th></th>\n",
                            "      <th>auctionid</th>\n",
                            "      <th>bid</th>\n",
                            "      <th>bidtime</th>\n",
                            "      <th>bidder</th>\n",
                            "      <th>bidderrate</th>\n",
                            "      <th>openbid</th>\n",
                            "      <th>price</th>\n",
                            "      <th>item</th>\n",
                            "      <th>auction_type</th>\n",
                            "    </tr>\n",
                            "  </thead>\n",
                            "  <tbody>\n",
                            "    <tr>\n",
                            "      <th>0</th>\n",
                            "      <td>1638893549</td>\n",
                            "      <td>175.00</td>\n",
                            "      <td>2.230949</td>\n",
                            "      <td>schadenfreud</td>\n",
                            "      <td>0.0</td>\n",
                            "      <td>99.00</td>\n",
                            "      <td>177.50</td>\n",
                            "      <td>Cartier wristwatch</td>\n",
                            "      <td>3 day auction</td>\n",
                            "    </tr>\n",
                            "    <tr>\n",
                            "      <th>1</th>\n",
                            "      <td>1638893549</td>\n",
                            "      <td>100.00</td>\n",
                            "      <td>2.600116</td>\n",
                            "      <td>chuik</td>\n",
                            "      <td>0.0</td>\n",
                            "      <td>99.00</td>\n",
                            "      <td>177.50</td>\n",
                            "      <td>Cartier wristwatch</td>\n",
                            "      <td>3 day auction</td>\n",
                            "    </tr>\n",
                            "    <tr>\n",
                            "      <th>2</th>\n",
                            "      <td>1638893549</td>\n",
                            "      <td>120.00</td>\n",
                            "      <td>2.600810</td>\n",
                            "      <td>kiwisstuff</td>\n",
                            "      <td>2.0</td>\n",
                            "      <td>99.00</td>\n",
                            "      <td>177.50</td>\n",
                            "      <td>Cartier wristwatch</td>\n",
                            "      <td>3 day auction</td>\n",
                            "    </tr>\n",
                            "    <tr>\n",
                            "      <th>3</th>\n",
                            "      <td>1638893549</td>\n",
                            "      <td>150.00</td>\n",
                            "      <td>2.601076</td>\n",
                            "      <td>kiwisstuff</td>\n",
                            "      <td>2.0</td>\n",
                            "      <td>99.00</td>\n",
                            "      <td>177.50</td>\n",
                            "      <td>Cartier wristwatch</td>\n",
                            "      <td>3 day auction</td>\n",
                            "    </tr>\n",
                            "    <tr>\n",
                            "      <th>4</th>\n",
                            "      <td>1638893549</td>\n",
                            "      <td>177.50</td>\n",
                            "      <td>2.909826</td>\n",
                            "      <td>eli.flint@flightsafety.co</td>\n",
                            "      <td>4.0</td>\n",
                            "      <td>99.00</td>\n",
                            "      <td>177.50</td>\n",
                            "      <td>Cartier wristwatch</td>\n",
                            "      <td>3 day auction</td>\n",
                            "    </tr>\n",
                            "    <tr>\n",
                            "      <th>...</th>\n",
                            "      <td>...</td>\n",
                            "      <td>...</td>\n",
                            "      <td>...</td>\n",
                            "      <td>...</td>\n",
                            "      <td>...</td>\n",
                            "      <td>...</td>\n",
                            "      <td>...</td>\n",
                            "      <td>...</td>\n",
                            "      <td>...</td>\n",
                            "    </tr>\n",
                            "    <tr>\n",
                            "      <th>10676</th>\n",
                            "      <td>8214889177</td>\n",
                            "      <td>61.00</td>\n",
                            "      <td>6.359155</td>\n",
                            "      <td>714ark</td>\n",
                            "      <td>15.0</td>\n",
                            "      <td>0.01</td>\n",
                            "      <td>90.01</td>\n",
                            "      <td>Xbox game console</td>\n",
                            "      <td>7 day auction</td>\n",
                            "    </tr>\n",
                            "    <tr>\n",
                            "      <th>10677</th>\n",
                            "      <td>8214889177</td>\n",
                            "      <td>76.00</td>\n",
                            "      <td>6.359294</td>\n",
                            "      <td>rjdorman</td>\n",
                            "      <td>1.0</td>\n",
                            "      <td>0.01</td>\n",
                            "      <td>90.01</td>\n",
                            "      <td>Xbox game console</td>\n",
                            "      <td>7 day auction</td>\n",
                            "    </tr>\n",
                            "    <tr>\n",
                            "      <th>10678</th>\n",
                            "      <td>8214889177</td>\n",
                            "      <td>90.00</td>\n",
                            "      <td>6.428738</td>\n",
                            "      <td>baylorjeep</td>\n",
                            "      <td>3.0</td>\n",
                            "      <td>0.01</td>\n",
                            "      <td>90.01</td>\n",
                            "      <td>Xbox game console</td>\n",
                            "      <td>7 day auction</td>\n",
                            "    </tr>\n",
                            "    <tr>\n",
                            "      <th>10679</th>\n",
                            "      <td>8214889177</td>\n",
                            "      <td>88.00</td>\n",
                            "      <td>6.760081</td>\n",
                            "      <td>jasonjasonparis</td>\n",
                            "      <td>18.0</td>\n",
                            "      <td>0.01</td>\n",
                            "      <td>90.01</td>\n",
                            "      <td>Xbox game console</td>\n",
                            "      <td>7 day auction</td>\n",
                            "    </tr>\n",
                            "    <tr>\n",
                            "      <th>10680</th>\n",
                            "      <td>8214889177</td>\n",
                            "      <td>90.01</td>\n",
                            "      <td>6.988831</td>\n",
                            "      <td>gpgtpse</td>\n",
                            "      <td>268.0</td>\n",
                            "      <td>0.01</td>\n",
                            "      <td>90.01</td>\n",
                            "      <td>Xbox game console</td>\n",
                            "      <td>7 day auction</td>\n",
                            "    </tr>\n",
                            "  </tbody>\n",
                            "</table>\n",
                            "<p>10681 rows × 9 columns</p>\n",
                            "</div>"
                        ],
                        "text/plain": [
                            "        auctionid     bid   bidtime                     bidder  bidderrate  \\\n",
                            "0      1638893549  175.00  2.230949               schadenfreud         0.0   \n",
                            "1      1638893549  100.00  2.600116                      chuik         0.0   \n",
                            "2      1638893549  120.00  2.600810                 kiwisstuff         2.0   \n",
                            "3      1638893549  150.00  2.601076                 kiwisstuff         2.0   \n",
                            "4      1638893549  177.50  2.909826  eli.flint@flightsafety.co         4.0   \n",
                            "...           ...     ...       ...                        ...         ...   \n",
                            "10676  8214889177   61.00  6.359155                     714ark        15.0   \n",
                            "10677  8214889177   76.00  6.359294                   rjdorman         1.0   \n",
                            "10678  8214889177   90.00  6.428738                 baylorjeep         3.0   \n",
                            "10679  8214889177   88.00  6.760081            jasonjasonparis        18.0   \n",
                            "10680  8214889177   90.01  6.988831                    gpgtpse       268.0   \n",
                            "\n",
                            "       openbid   price                item   auction_type  \n",
                            "0        99.00  177.50  Cartier wristwatch  3 day auction  \n",
                            "1        99.00  177.50  Cartier wristwatch  3 day auction  \n",
                            "2        99.00  177.50  Cartier wristwatch  3 day auction  \n",
                            "3        99.00  177.50  Cartier wristwatch  3 day auction  \n",
                            "4        99.00  177.50  Cartier wristwatch  3 day auction  \n",
                            "...        ...     ...                 ...            ...  \n",
                            "10676     0.01   90.01   Xbox game console  7 day auction  \n",
                            "10677     0.01   90.01   Xbox game console  7 day auction  \n",
                            "10678     0.01   90.01   Xbox game console  7 day auction  \n",
                            "10679     0.01   90.01   Xbox game console  7 day auction  \n",
                            "10680     0.01   90.01   Xbox game console  7 day auction  \n",
                            "\n",
                            "[10681 rows x 9 columns]"
                        ]
                    },
                    "execution_count": 2,
                    "metadata": {},
                    "output_type": "execute_result"
                }
            ],
            "source": [
                "df=pd.read_csv('auction.csv')\n",
                "df"
            ]
        },
        {
            "cell_type": "markdown",
            "id": "f4046c36",
            "metadata": {},
            "source": [
                "# Basics"
            ]
        },
        {
            "cell_type": "markdown",
            "id": "ea983548",
            "metadata": {},
            "source": [
                "### Shape of our data"
            ]
        },
        {
            "cell_type": "code",
            "execution_count": 3,
            "id": "2af21824",
            "metadata": {},
            "outputs": [
                {
                    "name": "stdout",
                    "output_type": "stream",
                    "text": [
                        "Number of rows:  10681\n",
                        "Number of columns:  9\n"
                    ]
                }
            ],
            "source": [
                "print(\"Number of rows: \",df.shape[0])\n",
                "print(\"Number of columns: \",df.shape[1])"
            ]
        },
        {
            "cell_type": "markdown",
            "id": "1900802c",
            "metadata": {},
            "source": [
                "### Finding if there are any null values in the data set"
            ]
        },
        {
            "cell_type": "code",
            "execution_count": 4,
            "id": "c0dd6d8d",
            "metadata": {},
            "outputs": [
                {
                    "data": {
                        "text/plain": [
                            "auctionid        0\n",
                            "bid              0\n",
                            "bidtime          0\n",
                            "bidder          16\n",
                            "bidderrate      11\n",
                            "openbid          0\n",
                            "price            0\n",
                            "item             0\n",
                            "auction_type     0\n",
                            "dtype: int64"
                        ]
                    },
                    "execution_count": 4,
                    "metadata": {},
                    "output_type": "execute_result"
                }
            ],
            "source": [
                "df.isnull().sum()"
            ]
        },
        {
            "cell_type": "markdown",
            "id": "7e297552",
            "metadata": {},
            "source": [
                "### Checking for the duplicate values"
            ]
        },
        {
            "cell_type": "code",
            "execution_count": 5,
            "id": "3a3df49d",
            "metadata": {
                "scrolled": true
            },
            "outputs": [
                {
                    "data": {
                        "text/plain": [
                            "0"
                        ]
                    },
                    "execution_count": 5,
                    "metadata": {},
                    "output_type": "execute_result"
                }
            ],
            "source": [
                "df.duplicated().sum()"
            ]
        },
        {
            "cell_type": "markdown",
            "id": "ecde82ba",
            "metadata": {},
            "source": [
                "### Finding the statistical data"
            ]
        },
        {
            "cell_type": "code",
            "execution_count": 6,
            "id": "5f0ff027",
            "metadata": {
                "scrolled": true
            },
            "outputs": [
                {
                    "data": {
                        "text/html": [
                            "<div>\n",
                            "<style scoped>\n",
                            "    .dataframe tbody tr th:only-of-type {\n",
                            "        vertical-align: middle;\n",
                            "    }\n",
                            "\n",
                            "    .dataframe tbody tr th {\n",
                            "        vertical-align: top;\n",
                            "    }\n",
                            "\n",
                            "    .dataframe thead th {\n",
                            "        text-align: right;\n",
                            "    }\n",
                            "</style>\n",
                            "<table border=\"1\" class=\"dataframe\">\n",
                            "  <thead>\n",
                            "    <tr style=\"text-align: right;\">\n",
                            "      <th></th>\n",
                            "      <th>auctionid</th>\n",
                            "      <th>bid</th>\n",
                            "      <th>bidtime</th>\n",
                            "      <th>bidderrate</th>\n",
                            "      <th>openbid</th>\n",
                            "      <th>price</th>\n",
                            "    </tr>\n",
                            "  </thead>\n",
                            "  <tbody>\n",
                            "    <tr>\n",
                            "      <th>count</th>\n",
                            "      <td>1.068100e+04</td>\n",
                            "      <td>10681.000000</td>\n",
                            "      <td>10681.000000</td>\n",
                            "      <td>10670.000000</td>\n",
                            "      <td>10681.000000</td>\n",
                            "      <td>10681.000000</td>\n",
                            "    </tr>\n",
                            "    <tr>\n",
                            "      <th>mean</th>\n",
                            "      <td>4.136148e+09</td>\n",
                            "      <td>207.586109</td>\n",
                            "      <td>3.979628</td>\n",
                            "      <td>31.936739</td>\n",
                            "      <td>52.246256</td>\n",
                            "      <td>335.043589</td>\n",
                            "    </tr>\n",
                            "    <tr>\n",
                            "      <th>std</th>\n",
                            "      <td>2.489918e+09</td>\n",
                            "      <td>323.037396</td>\n",
                            "      <td>2.353386</td>\n",
                            "      <td>120.594074</td>\n",
                            "      <td>168.453245</td>\n",
                            "      <td>433.566009</td>\n",
                            "    </tr>\n",
                            "    <tr>\n",
                            "      <th>min</th>\n",
                            "      <td>1.638844e+09</td>\n",
                            "      <td>0.010000</td>\n",
                            "      <td>0.000567</td>\n",
                            "      <td>-4.000000</td>\n",
                            "      <td>0.010000</td>\n",
                            "      <td>26.000000</td>\n",
                            "    </tr>\n",
                            "    <tr>\n",
                            "      <th>25%</th>\n",
                            "      <td>3.015329e+09</td>\n",
                            "      <td>72.000000</td>\n",
                            "      <td>1.949931</td>\n",
                            "      <td>1.000000</td>\n",
                            "      <td>1.000000</td>\n",
                            "      <td>186.510000</td>\n",
                            "    </tr>\n",
                            "    <tr>\n",
                            "      <th>50%</th>\n",
                            "      <td>3.020526e+09</td>\n",
                            "      <td>140.000000</td>\n",
                            "      <td>4.140833</td>\n",
                            "      <td>5.000000</td>\n",
                            "      <td>4.990000</td>\n",
                            "      <td>228.490000</td>\n",
                            "    </tr>\n",
                            "    <tr>\n",
                            "      <th>75%</th>\n",
                            "      <td>8.212136e+09</td>\n",
                            "      <td>210.000000</td>\n",
                            "      <td>6.448060</td>\n",
                            "      <td>21.000000</td>\n",
                            "      <td>50.000000</td>\n",
                            "      <td>255.000000</td>\n",
                            "    </tr>\n",
                            "    <tr>\n",
                            "      <th>max</th>\n",
                            "      <td>8.215611e+09</td>\n",
                            "      <td>5400.000000</td>\n",
                            "      <td>6.999990</td>\n",
                            "      <td>3140.000000</td>\n",
                            "      <td>5000.000000</td>\n",
                            "      <td>5400.000000</td>\n",
                            "    </tr>\n",
                            "  </tbody>\n",
                            "</table>\n",
                            "</div>"
                        ],
                        "text/plain": [
                            "          auctionid           bid       bidtime    bidderrate       openbid  \\\n",
                            "count  1.068100e+04  10681.000000  10681.000000  10670.000000  10681.000000   \n",
                            "mean   4.136148e+09    207.586109      3.979628     31.936739     52.246256   \n",
                            "std    2.489918e+09    323.037396      2.353386    120.594074    168.453245   \n",
                            "min    1.638844e+09      0.010000      0.000567     -4.000000      0.010000   \n",
                            "25%    3.015329e+09     72.000000      1.949931      1.000000      1.000000   \n",
                            "50%    3.020526e+09    140.000000      4.140833      5.000000      4.990000   \n",
                            "75%    8.212136e+09    210.000000      6.448060     21.000000     50.000000   \n",
                            "max    8.215611e+09   5400.000000      6.999990   3140.000000   5000.000000   \n",
                            "\n",
                            "              price  \n",
                            "count  10681.000000  \n",
                            "mean     335.043589  \n",
                            "std      433.566009  \n",
                            "min       26.000000  \n",
                            "25%      186.510000  \n",
                            "50%      228.490000  \n",
                            "75%      255.000000  \n",
                            "max     5400.000000  "
                        ]
                    },
                    "execution_count": 6,
                    "metadata": {},
                    "output_type": "execute_result"
                }
            ],
            "source": [
                "df.describe()"
            ]
        },
        {
            "cell_type": "markdown",
            "id": "3936fd04",
            "metadata": {},
            "source": [
                "## Value Counts"
            ]
        },
        {
            "cell_type": "code",
            "execution_count": 7,
            "id": "932e2bd0",
            "metadata": {},
            "outputs": [
                {
                    "data": {
                        "application/javascript": "\n        if (window._pyforest_update_imports_cell) { window._pyforest_update_imports_cell('import pandas as pd\\nimport numpy as np'); }\n    ",
                        "text/plain": [
                            "<IPython.core.display.Javascript object>"
                        ]
                    },
                    "metadata": {},
                    "output_type": "display_data"
                },
                {
                    "data": {
                        "text/plain": [
                            "3387"
                        ]
                    },
                    "execution_count": 7,
                    "metadata": {},
                    "output_type": "execute_result"
                }
            ],
            "source": [
                "#bidder\n",
                "bidders_count=np.array(df['bidder'].value_counts())\n",
                "len(bidders_count)"
            ]
        },
        {
            "cell_type": "markdown",
            "id": "36ca3e51",
            "metadata": {},
            "source": [
                "#     \n",
                "#\n",
                "#\n",
                "#\n",
                "#"
            ]
        },
        {
            "cell_type": "markdown",
            "id": "cba68302",
            "metadata": {},
            "source": [
                "# Finding the maximum and minimum bid\n",
                "#### Max product details analysis"
            ]
        },
        {
            "cell_type": "code",
            "execution_count": 8,
            "id": "a7c790f7",
            "metadata": {},
            "outputs": [
                {
                    "data": {
                        "text/plain": [
                            "760"
                        ]
                    },
                    "execution_count": 8,
                    "metadata": {},
                    "output_type": "execute_result"
                }
            ],
            "source": [
                "max_bid=df['bid'].idxmax()\n",
                "max_bid"
            ]
        },
        {
            "cell_type": "code",
            "execution_count": 9,
            "id": "6a7d9894",
            "metadata": {},
            "outputs": [],
            "source": [
                "product_max = df['item'][max_bid]\n",
                "bid_price_max=df['bid'][max_bid]"
            ]
        },
        {
            "cell_type": "markdown",
            "id": "4eab20bb",
            "metadata": {},
            "source": [
                "### Max Product Details are:"
            ]
        },
        {
            "cell_type": "code",
            "execution_count": 10,
            "id": "8c7ea293",
            "metadata": {},
            "outputs": [
                {
                    "name": "stdout",
                    "output_type": "stream",
                    "text": [
                        "Most expensive product for auction is Cartier wristwatch for bid price 5400.0\n"
                    ]
                }
            ],
            "source": [
                "print(f'Most expensive product for auction is {product_max} for bid price {bid_price_max}')"
            ]
        },
        {
            "cell_type": "markdown",
            "id": "f790fb50",
            "metadata": {},
            "source": [
                "#### Min product details analysis"
            ]
        },
        {
            "cell_type": "code",
            "execution_count": 11,
            "id": "39b25c8c",
            "metadata": {
                "scrolled": true
            },
            "outputs": [
                {
                    "data": {
                        "text/plain": [
                            "4070"
                        ]
                    },
                    "execution_count": 11,
                    "metadata": {},
                    "output_type": "execute_result"
                }
            ],
            "source": [
                "min_bid=df['bid'].idxmin()\n",
                "min_bid"
            ]
        },
        {
            "cell_type": "code",
            "execution_count": 12,
            "id": "4262982e",
            "metadata": {},
            "outputs": [],
            "source": [
                "product_min = df['item'][min_bid]\n",
                "bid_price_min=df['bid'][min_bid]"
            ]
        },
        {
            "cell_type": "markdown",
            "id": "f7dc7d8c",
            "metadata": {},
            "source": [
                "### Min Product Details are:"
            ]
        },
        {
            "cell_type": "code",
            "execution_count": 13,
            "id": "17e1dba1",
            "metadata": {},
            "outputs": [
                {
                    "name": "stdout",
                    "output_type": "stream",
                    "text": [
                        "Cheapest product for auction is Palm Pilot M515 PDA for bid price 0.01\n"
                    ]
                }
            ],
            "source": [
                "print(f'Cheapest product for auction is {product_min} for bid price {bid_price_min}')"
            ]
        },
        {
            "cell_type": "markdown",
            "id": "57c2afec",
            "metadata": {},
            "source": [
                "#     \n",
                "#\n",
                "#\n",
                "#\n",
                "#"
            ]
        },
        {
            "cell_type": "markdown",
            "id": "20ea781c",
            "metadata": {},
            "source": [
                "# Profitable Auctions"
            ]
        },
        {
            "cell_type": "code",
            "execution_count": 14,
            "id": "ef220ecf",
            "metadata": {},
            "outputs": [],
            "source": [
                "list = []\n",
                "for i in range(len(df)):\n",
                "    if df['bid'][i]<df['price'][i]:\n",
                "        list.append([df['auctionid'][i],df['bid'][i],df['bidtime'][i],df['bidder'][i],df['bidderrate'][i],df['openbid'][i],df['price'][i],df['item'][i],df['auction_type'][i]])"
            ]
        },
        {
            "cell_type": "markdown",
            "id": "f0fbd9f3",
            "metadata": {},
            "source": [
                "## Creating new Data Table for profitable items"
            ]
        },
        {
            "cell_type": "code",
            "execution_count": 15,
            "id": "fbd7326a",
            "metadata": {},
            "outputs": [
                {
                    "data": {
                        "application/javascript": "\n        if (window._pyforest_update_imports_cell) { window._pyforest_update_imports_cell('import pandas as pd\\nimport numpy as np'); }\n    ",
                        "text/plain": [
                            "<IPython.core.display.Javascript object>"
                        ]
                    },
                    "metadata": {},
                    "output_type": "display_data"
                },
                {
                    "data": {
                        "text/html": [
                            "<div>\n",
                            "<style scoped>\n",
                            "    .dataframe tbody tr th:only-of-type {\n",
                            "        vertical-align: middle;\n",
                            "    }\n",
                            "\n",
                            "    .dataframe tbody tr th {\n",
                            "        vertical-align: top;\n",
                            "    }\n",
                            "\n",
                            "    .dataframe thead th {\n",
                            "        text-align: right;\n",
                            "    }\n",
                            "</style>\n",
                            "<table border=\"1\" class=\"dataframe\">\n",
                            "  <thead>\n",
                            "    <tr style=\"text-align: right;\">\n",
                            "      <th></th>\n",
                            "      <th>auctionid</th>\n",
                            "      <th>bid</th>\n",
                            "      <th>bidtime</th>\n",
                            "      <th>bidder</th>\n",
                            "      <th>bidderrate</th>\n",
                            "      <th>openbid</th>\n",
                            "      <th>price</th>\n",
                            "      <th>item</th>\n",
                            "      <th>auction_type</th>\n",
                            "    </tr>\n",
                            "  </thead>\n",
                            "  <tbody>\n",
                            "    <tr>\n",
                            "      <th>0</th>\n",
                            "      <td>1638893549</td>\n",
                            "      <td>175.0</td>\n",
                            "      <td>2.230949</td>\n",
                            "      <td>schadenfreud</td>\n",
                            "      <td>0.0</td>\n",
                            "      <td>99.00</td>\n",
                            "      <td>177.50</td>\n",
                            "      <td>Cartier wristwatch</td>\n",
                            "      <td>3 day auction</td>\n",
                            "    </tr>\n",
                            "    <tr>\n",
                            "      <th>1</th>\n",
                            "      <td>1638893549</td>\n",
                            "      <td>100.0</td>\n",
                            "      <td>2.600116</td>\n",
                            "      <td>chuik</td>\n",
                            "      <td>0.0</td>\n",
                            "      <td>99.00</td>\n",
                            "      <td>177.50</td>\n",
                            "      <td>Cartier wristwatch</td>\n",
                            "      <td>3 day auction</td>\n",
                            "    </tr>\n",
                            "    <tr>\n",
                            "      <th>2</th>\n",
                            "      <td>1638893549</td>\n",
                            "      <td>120.0</td>\n",
                            "      <td>2.600810</td>\n",
                            "      <td>kiwisstuff</td>\n",
                            "      <td>2.0</td>\n",
                            "      <td>99.00</td>\n",
                            "      <td>177.50</td>\n",
                            "      <td>Cartier wristwatch</td>\n",
                            "      <td>3 day auction</td>\n",
                            "    </tr>\n",
                            "    <tr>\n",
                            "      <th>3</th>\n",
                            "      <td>1638893549</td>\n",
                            "      <td>150.0</td>\n",
                            "      <td>2.601076</td>\n",
                            "      <td>kiwisstuff</td>\n",
                            "      <td>2.0</td>\n",
                            "      <td>99.00</td>\n",
                            "      <td>177.50</td>\n",
                            "      <td>Cartier wristwatch</td>\n",
                            "      <td>3 day auction</td>\n",
                            "    </tr>\n",
                            "    <tr>\n",
                            "      <th>4</th>\n",
                            "      <td>1639453840</td>\n",
                            "      <td>1.0</td>\n",
                            "      <td>0.355856</td>\n",
                            "      <td>bfalconb</td>\n",
                            "      <td>2.0</td>\n",
                            "      <td>1.00</td>\n",
                            "      <td>355.00</td>\n",
                            "      <td>Cartier wristwatch</td>\n",
                            "      <td>3 day auction</td>\n",
                            "    </tr>\n",
                            "    <tr>\n",
                            "      <th>...</th>\n",
                            "      <td>...</td>\n",
                            "      <td>...</td>\n",
                            "      <td>...</td>\n",
                            "      <td>...</td>\n",
                            "      <td>...</td>\n",
                            "      <td>...</td>\n",
                            "      <td>...</td>\n",
                            "      <td>...</td>\n",
                            "      <td>...</td>\n",
                            "    </tr>\n",
                            "    <tr>\n",
                            "      <th>9962</th>\n",
                            "      <td>8214889177</td>\n",
                            "      <td>50.0</td>\n",
                            "      <td>5.013889</td>\n",
                            "      <td>bax3family</td>\n",
                            "      <td>3.0</td>\n",
                            "      <td>0.01</td>\n",
                            "      <td>90.01</td>\n",
                            "      <td>Xbox game console</td>\n",
                            "      <td>7 day auction</td>\n",
                            "    </tr>\n",
                            "    <tr>\n",
                            "      <th>9963</th>\n",
                            "      <td>8214889177</td>\n",
                            "      <td>61.0</td>\n",
                            "      <td>6.359155</td>\n",
                            "      <td>714ark</td>\n",
                            "      <td>15.0</td>\n",
                            "      <td>0.01</td>\n",
                            "      <td>90.01</td>\n",
                            "      <td>Xbox game console</td>\n",
                            "      <td>7 day auction</td>\n",
                            "    </tr>\n",
                            "    <tr>\n",
                            "      <th>9964</th>\n",
                            "      <td>8214889177</td>\n",
                            "      <td>76.0</td>\n",
                            "      <td>6.359294</td>\n",
                            "      <td>rjdorman</td>\n",
                            "      <td>1.0</td>\n",
                            "      <td>0.01</td>\n",
                            "      <td>90.01</td>\n",
                            "      <td>Xbox game console</td>\n",
                            "      <td>7 day auction</td>\n",
                            "    </tr>\n",
                            "    <tr>\n",
                            "      <th>9965</th>\n",
                            "      <td>8214889177</td>\n",
                            "      <td>90.0</td>\n",
                            "      <td>6.428738</td>\n",
                            "      <td>baylorjeep</td>\n",
                            "      <td>3.0</td>\n",
                            "      <td>0.01</td>\n",
                            "      <td>90.01</td>\n",
                            "      <td>Xbox game console</td>\n",
                            "      <td>7 day auction</td>\n",
                            "    </tr>\n",
                            "    <tr>\n",
                            "      <th>9966</th>\n",
                            "      <td>8214889177</td>\n",
                            "      <td>88.0</td>\n",
                            "      <td>6.760081</td>\n",
                            "      <td>jasonjasonparis</td>\n",
                            "      <td>18.0</td>\n",
                            "      <td>0.01</td>\n",
                            "      <td>90.01</td>\n",
                            "      <td>Xbox game console</td>\n",
                            "      <td>7 day auction</td>\n",
                            "    </tr>\n",
                            "  </tbody>\n",
                            "</table>\n",
                            "<p>9967 rows × 9 columns</p>\n",
                            "</div>"
                        ],
                        "text/plain": [
                            "       auctionid    bid   bidtime           bidder  bidderrate  openbid  \\\n",
                            "0     1638893549  175.0  2.230949     schadenfreud         0.0    99.00   \n",
                            "1     1638893549  100.0  2.600116            chuik         0.0    99.00   \n",
                            "2     1638893549  120.0  2.600810       kiwisstuff         2.0    99.00   \n",
                            "3     1638893549  150.0  2.601076       kiwisstuff         2.0    99.00   \n",
                            "4     1639453840    1.0  0.355856         bfalconb         2.0     1.00   \n",
                            "...          ...    ...       ...              ...         ...      ...   \n",
                            "9962  8214889177   50.0  5.013889       bax3family         3.0     0.01   \n",
                            "9963  8214889177   61.0  6.359155           714ark        15.0     0.01   \n",
                            "9964  8214889177   76.0  6.359294         rjdorman         1.0     0.01   \n",
                            "9965  8214889177   90.0  6.428738       baylorjeep         3.0     0.01   \n",
                            "9966  8214889177   88.0  6.760081  jasonjasonparis        18.0     0.01   \n",
                            "\n",
                            "       price                item   auction_type  \n",
                            "0     177.50  Cartier wristwatch  3 day auction  \n",
                            "1     177.50  Cartier wristwatch  3 day auction  \n",
                            "2     177.50  Cartier wristwatch  3 day auction  \n",
                            "3     177.50  Cartier wristwatch  3 day auction  \n",
                            "4     355.00  Cartier wristwatch  3 day auction  \n",
                            "...      ...                 ...            ...  \n",
                            "9962   90.01   Xbox game console  7 day auction  \n",
                            "9963   90.01   Xbox game console  7 day auction  \n",
                            "9964   90.01   Xbox game console  7 day auction  \n",
                            "9965   90.01   Xbox game console  7 day auction  \n",
                            "9966   90.01   Xbox game console  7 day auction  \n",
                            "\n",
                            "[9967 rows x 9 columns]"
                        ]
                    },
                    "execution_count": 15,
                    "metadata": {},
                    "output_type": "execute_result"
                }
            ],
            "source": [
                "profitable_df=pd.DataFrame(list)\n",
                "profitable_df.set_axis(['auctionid','bid','bidtime','bidder','bidderrate','openbid','price','item','auction_type'], axis='columns', inplace=True)\n",
                "profitable_df"
            ]
        },
        {
            "cell_type": "markdown",
            "id": "d7cbdef2",
            "metadata": {},
            "source": [
                "## Exporting all data to a new csv file"
            ]
        },
        {
            "cell_type": "code",
            "execution_count": 16,
            "id": "5ed39fca",
            "metadata": {},
            "outputs": [],
            "source": [
                "profitable_df.to_csv('Profitable Data.csv')"
            ]
        },
        {
            "cell_type": "markdown",
            "id": "00825997",
            "metadata": {},
            "source": [
                "#     \n",
                "#\n",
                "#\n",
                "#\n",
                "#"
            ]
        },
        {
            "cell_type": "markdown",
            "id": "da19a3a0",
            "metadata": {},
            "source": [
                "# Representing data through graphs"
            ]
        },
        {
            "cell_type": "code",
            "execution_count": 17,
            "id": "15fb5469",
            "metadata": {},
            "outputs": [],
            "source": [
                "correlation=df.drop(['auctionid','bidtime'],axis=1).corr()"
            ]
        },
        {
            "cell_type": "code",
            "execution_count": 18,
            "id": "3b661607",
            "metadata": {},
            "outputs": [
                {
                    "data": {
                        "application/javascript": "\n        if (window._pyforest_update_imports_cell) { window._pyforest_update_imports_cell('import pandas as pd\\nimport matplotlib.pyplot as plt\\nimport numpy as np'); }\n    ",
                        "text/plain": [
                            "<IPython.core.display.Javascript object>"
                        ]
                    },
                    "metadata": {},
                    "output_type": "display_data"
                },
                {
                    "data": {
                        "application/javascript": "\n        if (window._pyforest_update_imports_cell) { window._pyforest_update_imports_cell('import pandas as pd\\nimport matplotlib.pyplot as plt\\nimport seaborn as sns\\nimport numpy as np'); }\n    ",
                        "text/plain": [
                            "<IPython.core.display.Javascript object>"
                        ]
                    },
                    "metadata": {},
                    "output_type": "display_data"
                },
                {
                    "data": {
                        "text/plain": [
                            "<AxesSubplot:>"
                        ]
                    },
                    "execution_count": 18,
                    "metadata": {},
                    "output_type": "execute_result"
                },
                {
                    "data": {
                        "image/png": "[encoded data removed]",
                        "text/plain": [
                            "<Figure size 648x504 with 2 Axes>"
                        ]
                    },
                    "metadata": {
                        "needs_background": "light"
                    },
                    "output_type": "display_data"
                }
            ],
            "source": [
                "plt.figure(figsize=(9,7))\n",
                "sns.heatmap(correlation,annot=True)"
            ]
        },
        {
            "cell_type": "markdown",
            "id": "f870371c",
            "metadata": {},
            "source": [
                "### Checking if the item is sold profitably"
            ]
        },
        {
            "cell_type": "code",
            "execution_count": 19,
            "id": "d2e5c697",
            "metadata": {},
            "outputs": [
                {
                    "data": {
                        "application/javascript": "\n        if (window._pyforest_update_imports_cell) { window._pyforest_update_imports_cell('import pandas as pd\\nimport matplotlib.pyplot as plt\\nimport seaborn as sns\\nimport numpy as np'); }\n    ",
                        "text/plain": [
                            "<IPython.core.display.Javascript object>"
                        ]
                    },
                    "metadata": {},
                    "output_type": "display_data"
                },
                {
                    "data": {
                        "application/javascript": "\n        if (window._pyforest_update_imports_cell) { window._pyforest_update_imports_cell('import pandas as pd\\nimport matplotlib.pyplot as plt\\nimport seaborn as sns\\nimport numpy as np'); }\n    ",
                        "text/plain": [
                            "<IPython.core.display.Javascript object>"
                        ]
                    },
                    "metadata": {},
                    "output_type": "display_data"
                },
                {
                    "name": "stderr",
                    "output_type": "stream",
                    "text": [
                        "c:\\ProgramData\\Anaconda3\\lib\\site-packages\\seaborn\\_decorators.py:36: FutureWarning: Pass the following variable as a keyword arg: x. From version 0.12, the only valid positional argument will be `data`, and passing other arguments without an explicit keyword will result in an error or misinterpretation.\n",
                        "  warnings.warn(\n"
                    ]
                },
                {
                    "data": {
                        "text/plain": [
                            "<AxesSubplot:ylabel='count'>"
                        ]
                    },
                    "execution_count": 19,
                    "metadata": {},
                    "output_type": "execute_result"
                },
                {
                    "data": {
                        "image/png": "[encoded data removed]",
                        "text/plain": [
                            "<Figure size 504x504 with 1 Axes>"
                        ]
                    },
                    "metadata": {
                        "needs_background": "light"
                    },
                    "output_type": "display_data"
                }
            ],
            "source": [
                "plt.figure(figsize=(7,7))\n",
                "sns.countplot(df['bid']<df['price'])"
            ]
        },
        {
            "cell_type": "markdown",
            "id": "d5474d48",
            "metadata": {},
            "source": [
                "### Analyzing bid data through graph"
            ]
        },
        {
            "cell_type": "code",
            "execution_count": 20,
            "id": "29069680",
            "metadata": {},
            "outputs": [
                {
                    "data": {
                        "application/javascript": "\n        if (window._pyforest_update_imports_cell) { window._pyforest_update_imports_cell('import pandas as pd\\nimport matplotlib.pyplot as plt\\nimport seaborn as sns\\nimport numpy as np'); }\n    ",
                        "text/plain": [
                            "<IPython.core.display.Javascript object>"
                        ]
                    },
                    "metadata": {},
                    "output_type": "display_data"
                },
                {
                    "data": {
                        "text/plain": [
                            "<AxesSubplot:>"
                        ]
                    },
                    "execution_count": 20,
                    "metadata": {},
                    "output_type": "execute_result"
                },
                {
                    "data": {
                        "image/png": "[encoded data removed]",
                        "text/plain": [
                            "<Figure size 504x504 with 1 Axes>"
                        ]
                    },
                    "metadata": {
                        "needs_background": "light"
                    },
                    "output_type": "display_data"
                }
            ],
            "source": [
                "plt.figure(figsize=(7,7))\n",
                "df['bid'].hist(rwidth=.4)"
            ]
        },
        {
            "cell_type": "code",
            "execution_count": 21,
            "id": "24674fe8",
            "metadata": {},
            "outputs": [
                {
                    "data": {
                        "text/html": [
                            "<div>\n",
                            "<style scoped>\n",
                            "    .dataframe tbody tr th:only-of-type {\n",
                            "        vertical-align: middle;\n",
                            "    }\n",
                            "\n",
                            "    .dataframe tbody tr th {\n",
                            "        vertical-align: top;\n",
                            "    }\n",
                            "\n",
                            "    .dataframe thead th {\n",
                            "        text-align: right;\n",
                            "    }\n",
                            "</style>\n",
                            "<table border=\"1\" class=\"dataframe\">\n",
                            "  <thead>\n",
                            "    <tr style=\"text-align: right;\">\n",
                            "      <th></th>\n",
                            "      <th>auctionid</th>\n",
                            "      <th>bid</th>\n",
                            "      <th>bidtime</th>\n",
                            "      <th>bidder</th>\n",
                            "      <th>bidderrate</th>\n",
                            "      <th>openbid</th>\n",
                            "      <th>price</th>\n",
                            "      <th>item</th>\n",
                            "      <th>auction_type</th>\n",
                            "    </tr>\n",
                            "  </thead>\n",
                            "  <tbody>\n",
                            "    <tr>\n",
                            "      <th>0</th>\n",
                            "      <td>1638893549</td>\n",
                            "      <td>175.00</td>\n",
                            "      <td>2.230949</td>\n",
                            "      <td>schadenfreud</td>\n",
                            "      <td>0.0</td>\n",
                            "      <td>99.00</td>\n",
                            "      <td>177.50</td>\n",
                            "      <td>Cartier wristwatch</td>\n",
                            "      <td>3 day auction</td>\n",
                            "    </tr>\n",
                            "    <tr>\n",
                            "      <th>1</th>\n",
                            "      <td>1638893549</td>\n",
                            "      <td>100.00</td>\n",
                            "      <td>2.600116</td>\n",
                            "      <td>chuik</td>\n",
                            "      <td>0.0</td>\n",
                            "      <td>99.00</td>\n",
                            "      <td>177.50</td>\n",
                            "      <td>Cartier wristwatch</td>\n",
                            "      <td>3 day auction</td>\n",
                            "    </tr>\n",
                            "    <tr>\n",
                            "      <th>2</th>\n",
                            "      <td>1638893549</td>\n",
                            "      <td>120.00</td>\n",
                            "      <td>2.600810</td>\n",
                            "      <td>kiwisstuff</td>\n",
                            "      <td>2.0</td>\n",
                            "      <td>99.00</td>\n",
                            "      <td>177.50</td>\n",
                            "      <td>Cartier wristwatch</td>\n",
                            "      <td>3 day auction</td>\n",
                            "    </tr>\n",
                            "    <tr>\n",
                            "      <th>3</th>\n",
                            "      <td>1638893549</td>\n",
                            "      <td>150.00</td>\n",
                            "      <td>2.601076</td>\n",
                            "      <td>kiwisstuff</td>\n",
                            "      <td>2.0</td>\n",
                            "      <td>99.00</td>\n",
                            "      <td>177.50</td>\n",
                            "      <td>Cartier wristwatch</td>\n",
                            "      <td>3 day auction</td>\n",
                            "    </tr>\n",
                            "    <tr>\n",
                            "      <th>4</th>\n",
                            "      <td>1638893549</td>\n",
                            "      <td>177.50</td>\n",
                            "      <td>2.909826</td>\n",
                            "      <td>eli.flint@flightsafety.co</td>\n",
                            "      <td>4.0</td>\n",
                            "      <td>99.00</td>\n",
                            "      <td>177.50</td>\n",
                            "      <td>Cartier wristwatch</td>\n",
                            "      <td>3 day auction</td>\n",
                            "    </tr>\n",
                            "    <tr>\n",
                            "      <th>...</th>\n",
                            "      <td>...</td>\n",
                            "      <td>...</td>\n",
                            "      <td>...</td>\n",
                            "      <td>...</td>\n",
                            "      <td>...</td>\n",
                            "      <td>...</td>\n",
                            "      <td>...</td>\n",
                            "      <td>...</td>\n",
                            "      <td>...</td>\n",
                            "    </tr>\n",
                            "    <tr>\n",
                            "      <th>10676</th>\n",
                            "      <td>8214889177</td>\n",
                            "      <td>61.00</td>\n",
                            "      <td>6.359155</td>\n",
                            "      <td>714ark</td>\n",
                            "      <td>15.0</td>\n",
                            "      <td>0.01</td>\n",
                            "      <td>90.01</td>\n",
                            "      <td>Xbox game console</td>\n",
                            "      <td>7 day auction</td>\n",
                            "    </tr>\n",
                            "    <tr>\n",
                            "      <th>10677</th>\n",
                            "      <td>8214889177</td>\n",
                            "      <td>76.00</td>\n",
                            "      <td>6.359294</td>\n",
                            "      <td>rjdorman</td>\n",
                            "      <td>1.0</td>\n",
                            "      <td>0.01</td>\n",
                            "      <td>90.01</td>\n",
                            "      <td>Xbox game console</td>\n",
                            "      <td>7 day auction</td>\n",
                            "    </tr>\n",
                            "    <tr>\n",
                            "      <th>10678</th>\n",
                            "      <td>8214889177</td>\n",
                            "      <td>90.00</td>\n",
                            "      <td>6.428738</td>\n",
                            "      <td>baylorjeep</td>\n",
                            "      <td>3.0</td>\n",
                            "      <td>0.01</td>\n",
                            "      <td>90.01</td>\n",
                            "      <td>Xbox game console</td>\n",
                            "      <td>7 day auction</td>\n",
                            "    </tr>\n",
                            "    <tr>\n",
                            "      <th>10679</th>\n",
                            "      <td>8214889177</td>\n",
                            "      <td>88.00</td>\n",
                            "      <td>6.760081</td>\n",
                            "      <td>jasonjasonparis</td>\n",
                            "      <td>18.0</td>\n",
                            "      <td>0.01</td>\n",
                            "      <td>90.01</td>\n",
                            "      <td>Xbox game console</td>\n",
                            "      <td>7 day auction</td>\n",
                            "    </tr>\n",
                            "    <tr>\n",
                            "      <th>10680</th>\n",
                            "      <td>8214889177</td>\n",
                            "      <td>90.01</td>\n",
                            "      <td>6.988831</td>\n",
                            "      <td>gpgtpse</td>\n",
                            "      <td>268.0</td>\n",
                            "      <td>0.01</td>\n",
                            "      <td>90.01</td>\n",
                            "      <td>Xbox game console</td>\n",
                            "      <td>7 day auction</td>\n",
                            "    </tr>\n",
                            "  </tbody>\n",
                            "</table>\n",
                            "<p>10681 rows × 9 columns</p>\n",
                            "</div>"
                        ],
                        "text/plain": [
                            "        auctionid     bid   bidtime                     bidder  bidderrate  \\\n",
                            "0      1638893549  175.00  2.230949               schadenfreud         0.0   \n",
                            "1      1638893549  100.00  2.600116                      chuik         0.0   \n",
                            "2      1638893549  120.00  2.600810                 kiwisstuff         2.0   \n",
                            "3      1638893549  150.00  2.601076                 kiwisstuff         2.0   \n",
                            "4      1638893549  177.50  2.909826  eli.flint@flightsafety.co         4.0   \n",
                            "...           ...     ...       ...                        ...         ...   \n",
                            "10676  8214889177   61.00  6.359155                     714ark        15.0   \n",
                            "10677  8214889177   76.00  6.359294                   rjdorman         1.0   \n",
                            "10678  8214889177   90.00  6.428738                 baylorjeep         3.0   \n",
                            "10679  8214889177   88.00  6.760081            jasonjasonparis        18.0   \n",
                            "10680  8214889177   90.01  6.988831                    gpgtpse       268.0   \n",
                            "\n",
                            "       openbid   price                item   auction_type  \n",
                            "0        99.00  177.50  Cartier wristwatch  3 day auction  \n",
                            "1        99.00  177.50  Cartier wristwatch  3 day auction  \n",
                            "2        99.00  177.50  Cartier wristwatch  3 day auction  \n",
                            "3        99.00  177.50  Cartier wristwatch  3 day auction  \n",
                            "4        99.00  177.50  Cartier wristwatch  3 day auction  \n",
                            "...        ...     ...                 ...            ...  \n",
                            "10676     0.01   90.01   Xbox game console  7 day auction  \n",
                            "10677     0.01   90.01   Xbox game console  7 day auction  \n",
                            "10678     0.01   90.01   Xbox game console  7 day auction  \n",
                            "10679     0.01   90.01   Xbox game console  7 day auction  \n",
                            "10680     0.01   90.01   Xbox game console  7 day auction  \n",
                            "\n",
                            "[10681 rows x 9 columns]"
                        ]
                    },
                    "execution_count": 21,
                    "metadata": {},
                    "output_type": "execute_result"
                }
            ],
            "source": [
                "df"
            ]
        },
        {
            "cell_type": "code",
            "execution_count": 22,
            "id": "d2b9d472",
            "metadata": {},
            "outputs": [],
            "source": [
                "list2=[]\n",
                "for i in range(len(df)):\n",
                "    x=df['price'][i]-df['bid'][i]\n",
                "    list2.append(x)\n",
                "list2\n",
                "pos_count=0\n",
                "neg_count=0\n",
                "neutral=0\n",
                "for num in list2:\n",
                "    if num >= 0:\n",
                "        pos_count += 1\n",
                "    elif num==0:\n",
                "        neutral += 1\n",
                "    else:\n",
                "        neg_count += 1"
            ]
        },
        {
            "cell_type": "code",
            "execution_count": 23,
            "id": "b742208e",
            "metadata": {},
            "outputs": [
                {
                    "name": "stdout",
                    "output_type": "stream",
                    "text": [
                        "Number of profitable items are 10679, number of non-profitable items are 2 and number of neutral items are 0\n"
                    ]
                }
            ],
            "source": [
                "print(f'Number of profitable items are {pos_count}, number of non-profitable items are {neg_count} and number of neutral items are {neutral}')"
            ]
        }
    ],
    "metadata": {
        "kernelspec": {
            "display_name": "Python 3.9.12 ('base')",
            "language": "python",
            "name": "python3"
        },
        "language_info": {
            "codemirror_mode": {
                "name": "ipython",
                "version": 3
            },
            "file_extension": ".py",
            "mimetype": "text/x-python",
            "name": "python",
            "nbconvert_exporter": "python",
            "pygments_lexer": "ipython3",
            "version": "3.9.12"
        },
        "vscode": {
            "interpreter": {
                "hash": "ad2bdc8ecc057115af97d19610ffacc2b4e99fae6737bb82f5d7fb13d2f2c186"
            }
        }
    },
    "nbformat": 4,
    "nbformat_minor": 5
}
