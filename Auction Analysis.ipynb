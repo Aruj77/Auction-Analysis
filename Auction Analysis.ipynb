{
 "cells": [
  {
   "cell_type": "markdown",
   "id": "15b0ead7",
   "metadata": {},
   "source": [
    "## Reading the data file"
   ]
  },
  {
   "cell_type": "code",
   "execution_count": 1,
   "id": "74490053",
   "metadata": {},
   "outputs": [
    {
     "data": {
      "application/javascript": [
       "\n",
       "        if (window._pyforest_update_imports_cell) { window._pyforest_update_imports_cell('import pandas as pd'); }\n",
       "    "
      ],
      "text/plain": [
       "<IPython.core.display.Javascript object>"
      ]
     },
     "metadata": {},
     "output_type": "display_data"
    },
    {
     "data": {
      "text/html": [
       "<div>\n",
       "<style scoped>\n",
       "    .dataframe tbody tr th:only-of-type {\n",
       "        vertical-align: middle;\n",
       "    }\n",
       "\n",
       "    .dataframe tbody tr th {\n",
       "        vertical-align: top;\n",
       "    }\n",
       "\n",
       "    .dataframe thead th {\n",
       "        text-align: right;\n",
       "    }\n",
       "</style>\n",
       "<table border=\"1\" class=\"dataframe\">\n",
       "  <thead>\n",
       "    <tr style=\"text-align: right;\">\n",
       "      <th></th>\n",
       "      <th>auctionid</th>\n",
       "      <th>bid</th>\n",
       "      <th>bidtime</th>\n",
       "      <th>bidder</th>\n",
       "      <th>bidderrate</th>\n",
       "      <th>openbid</th>\n",
       "      <th>price</th>\n",
       "      <th>item</th>\n",
       "      <th>auction_type</th>\n",
       "    </tr>\n",
       "  </thead>\n",
       "  <tbody>\n",
       "    <tr>\n",
       "      <th>0</th>\n",
       "      <td>1638893549</td>\n",
       "      <td>175.00</td>\n",
       "      <td>2.230949</td>\n",
       "      <td>schadenfreud</td>\n",
       "      <td>0.0</td>\n",
       "      <td>99.00</td>\n",
       "      <td>177.50</td>\n",
       "      <td>Cartier wristwatch</td>\n",
       "      <td>3 day auction</td>\n",
       "    </tr>\n",
       "    <tr>\n",
       "      <th>1</th>\n",
       "      <td>1638893549</td>\n",
       "      <td>100.00</td>\n",
       "      <td>2.600116</td>\n",
       "      <td>chuik</td>\n",
       "      <td>0.0</td>\n",
       "      <td>99.00</td>\n",
       "      <td>177.50</td>\n",
       "      <td>Cartier wristwatch</td>\n",
       "      <td>3 day auction</td>\n",
       "    </tr>\n",
       "    <tr>\n",
       "      <th>2</th>\n",
       "      <td>1638893549</td>\n",
       "      <td>120.00</td>\n",
       "      <td>2.600810</td>\n",
       "      <td>kiwisstuff</td>\n",
       "      <td>2.0</td>\n",
       "      <td>99.00</td>\n",
       "      <td>177.50</td>\n",
       "      <td>Cartier wristwatch</td>\n",
       "      <td>3 day auction</td>\n",
       "    </tr>\n",
       "    <tr>\n",
       "      <th>3</th>\n",
       "      <td>1638893549</td>\n",
       "      <td>150.00</td>\n",
       "      <td>2.601076</td>\n",
       "      <td>kiwisstuff</td>\n",
       "      <td>2.0</td>\n",
       "      <td>99.00</td>\n",
       "      <td>177.50</td>\n",
       "      <td>Cartier wristwatch</td>\n",
       "      <td>3 day auction</td>\n",
       "    </tr>\n",
       "    <tr>\n",
       "      <th>4</th>\n",
       "      <td>1638893549</td>\n",
       "      <td>177.50</td>\n",
       "      <td>2.909826</td>\n",
       "      <td>eli.flint@flightsafety.co</td>\n",
       "      <td>4.0</td>\n",
       "      <td>99.00</td>\n",
       "      <td>177.50</td>\n",
       "      <td>Cartier wristwatch</td>\n",
       "      <td>3 day auction</td>\n",
       "    </tr>\n",
       "    <tr>\n",
       "      <th>...</th>\n",
       "      <td>...</td>\n",
       "      <td>...</td>\n",
       "      <td>...</td>\n",
       "      <td>...</td>\n",
       "      <td>...</td>\n",
       "      <td>...</td>\n",
       "      <td>...</td>\n",
       "      <td>...</td>\n",
       "      <td>...</td>\n",
       "    </tr>\n",
       "    <tr>\n",
       "      <th>10676</th>\n",
       "      <td>8214889177</td>\n",
       "      <td>61.00</td>\n",
       "      <td>6.359155</td>\n",
       "      <td>714ark</td>\n",
       "      <td>15.0</td>\n",
       "      <td>0.01</td>\n",
       "      <td>90.01</td>\n",
       "      <td>Xbox game console</td>\n",
       "      <td>7 day auction</td>\n",
       "    </tr>\n",
       "    <tr>\n",
       "      <th>10677</th>\n",
       "      <td>8214889177</td>\n",
       "      <td>76.00</td>\n",
       "      <td>6.359294</td>\n",
       "      <td>rjdorman</td>\n",
       "      <td>1.0</td>\n",
       "      <td>0.01</td>\n",
       "      <td>90.01</td>\n",
       "      <td>Xbox game console</td>\n",
       "      <td>7 day auction</td>\n",
       "    </tr>\n",
       "    <tr>\n",
       "      <th>10678</th>\n",
       "      <td>8214889177</td>\n",
       "      <td>90.00</td>\n",
       "      <td>6.428738</td>\n",
       "      <td>baylorjeep</td>\n",
       "      <td>3.0</td>\n",
       "      <td>0.01</td>\n",
       "      <td>90.01</td>\n",
       "      <td>Xbox game console</td>\n",
       "      <td>7 day auction</td>\n",
       "    </tr>\n",
       "    <tr>\n",
       "      <th>10679</th>\n",
       "      <td>8214889177</td>\n",
       "      <td>88.00</td>\n",
       "      <td>6.760081</td>\n",
       "      <td>jasonjasonparis</td>\n",
       "      <td>18.0</td>\n",
       "      <td>0.01</td>\n",
       "      <td>90.01</td>\n",
       "      <td>Xbox game console</td>\n",
       "      <td>7 day auction</td>\n",
       "    </tr>\n",
       "    <tr>\n",
       "      <th>10680</th>\n",
       "      <td>8214889177</td>\n",
       "      <td>90.01</td>\n",
       "      <td>6.988831</td>\n",
       "      <td>gpgtpse</td>\n",
       "      <td>268.0</td>\n",
       "      <td>0.01</td>\n",
       "      <td>90.01</td>\n",
       "      <td>Xbox game console</td>\n",
       "      <td>7 day auction</td>\n",
       "    </tr>\n",
       "  </tbody>\n",
       "</table>\n",
       "<p>10681 rows × 9 columns</p>\n",
       "</div>"
      ],
      "text/plain": [
       "        auctionid     bid   bidtime                     bidder  bidderrate  \\\n",
       "0      1638893549  175.00  2.230949               schadenfreud         0.0   \n",
       "1      1638893549  100.00  2.600116                      chuik         0.0   \n",
       "2      1638893549  120.00  2.600810                 kiwisstuff         2.0   \n",
       "3      1638893549  150.00  2.601076                 kiwisstuff         2.0   \n",
       "4      1638893549  177.50  2.909826  eli.flint@flightsafety.co         4.0   \n",
       "...           ...     ...       ...                        ...         ...   \n",
       "10676  8214889177   61.00  6.359155                     714ark        15.0   \n",
       "10677  8214889177   76.00  6.359294                   rjdorman         1.0   \n",
       "10678  8214889177   90.00  6.428738                 baylorjeep         3.0   \n",
       "10679  8214889177   88.00  6.760081            jasonjasonparis        18.0   \n",
       "10680  8214889177   90.01  6.988831                    gpgtpse       268.0   \n",
       "\n",
       "       openbid   price                item   auction_type  \n",
       "0        99.00  177.50  Cartier wristwatch  3 day auction  \n",
       "1        99.00  177.50  Cartier wristwatch  3 day auction  \n",
       "2        99.00  177.50  Cartier wristwatch  3 day auction  \n",
       "3        99.00  177.50  Cartier wristwatch  3 day auction  \n",
       "4        99.00  177.50  Cartier wristwatch  3 day auction  \n",
       "...        ...     ...                 ...            ...  \n",
       "10676     0.01   90.01   Xbox game console  7 day auction  \n",
       "10677     0.01   90.01   Xbox game console  7 day auction  \n",
       "10678     0.01   90.01   Xbox game console  7 day auction  \n",
       "10679     0.01   90.01   Xbox game console  7 day auction  \n",
       "10680     0.01   90.01   Xbox game console  7 day auction  \n",
       "\n",
       "[10681 rows x 9 columns]"
      ]
     },
     "execution_count": 1,
     "metadata": {},
     "output_type": "execute_result"
    }
   ],
   "source": [
    "df=pd.read_csv('auction.csv')\n",
    "df"
   ]
  },
  {
   "cell_type": "markdown",
   "id": "1900802c",
   "metadata": {},
   "source": [
    "## Finding if there are any null values in the data set"
   ]
  },
  {
   "cell_type": "code",
   "execution_count": 2,
   "id": "c0dd6d8d",
   "metadata": {},
   "outputs": [
    {
     "data": {
      "text/plain": [
       "auctionid        0\n",
       "bid              0\n",
       "bidtime          0\n",
       "bidder          16\n",
       "bidderrate      11\n",
       "openbid          0\n",
       "price            0\n",
       "item             0\n",
       "auction_type     0\n",
       "dtype: int64"
      ]
     },
     "execution_count": 2,
     "metadata": {},
     "output_type": "execute_result"
    }
   ],
   "source": [
    "df.isnull().sum()"
   ]
  },
  {
   "cell_type": "markdown",
   "id": "36ca3e51",
   "metadata": {},
   "source": [
    "#     \n",
    "#\n",
    "#\n",
    "#\n",
    "#"
   ]
  },
  {
   "cell_type": "markdown",
   "id": "cba68302",
   "metadata": {},
   "source": [
    "# Finding the maximum and minimum bid\n",
    "#### Max product details analysis"
   ]
  },
  {
   "cell_type": "code",
   "execution_count": 3,
   "id": "a7c790f7",
   "metadata": {},
   "outputs": [
    {
     "data": {
      "text/plain": [
       "760"
      ]
     },
     "execution_count": 3,
     "metadata": {},
     "output_type": "execute_result"
    }
   ],
   "source": [
    "max_bid=df['bid'].idxmax()\n",
    "max_bid"
   ]
  },
  {
   "cell_type": "code",
   "execution_count": 4,
   "id": "6a7d9894",
   "metadata": {},
   "outputs": [],
   "source": [
    "product_max = df['item'][max_bid]\n",
    "bid_price_max=df['bid'][max_bid]"
   ]
  },
  {
   "cell_type": "markdown",
   "id": "4eab20bb",
   "metadata": {},
   "source": [
    "### Max Product Details are:"
   ]
  },
  {
   "cell_type": "code",
   "execution_count": 5,
   "id": "8c7ea293",
   "metadata": {},
   "outputs": [
    {
     "name": "stdout",
     "output_type": "stream",
     "text": [
      "Most expensive product for auction is Cartier wristwatch for bid price 5400.0\n"
     ]
    }
   ],
   "source": [
    "print(f'Most expensive product for auction is {product_max} for bid price {bid_price_max}')"
   ]
  },
  {
   "cell_type": "markdown",
   "id": "f790fb50",
   "metadata": {},
   "source": [
    "#### Min product details analysis"
   ]
  },
  {
   "cell_type": "code",
   "execution_count": 6,
   "id": "39b25c8c",
   "metadata": {
    "scrolled": true
   },
   "outputs": [
    {
     "data": {
      "text/plain": [
       "4070"
      ]
     },
     "execution_count": 6,
     "metadata": {},
     "output_type": "execute_result"
    }
   ],
   "source": [
    "min_bid=df['bid'].idxmin()\n",
    "min_bid"
   ]
  },
  {
   "cell_type": "code",
   "execution_count": 7,
   "id": "4262982e",
   "metadata": {},
   "outputs": [],
   "source": [
    "product_min = df['item'][min_bid]\n",
    "bid_price_min=df['bid'][min_bid]"
   ]
  },
  {
   "cell_type": "markdown",
   "id": "f7dc7d8c",
   "metadata": {},
   "source": [
    "### Min Product Details are:"
   ]
  },
  {
   "cell_type": "code",
   "execution_count": 8,
   "id": "17e1dba1",
   "metadata": {},
   "outputs": [
    {
     "name": "stdout",
     "output_type": "stream",
     "text": [
      "Cheapest product for auction is Palm Pilot M515 PDA for bid price 0.01\n"
     ]
    }
   ],
   "source": [
    "print(f'Cheapest product for auction is {product_min} for bid price {bid_price_min}')"
   ]
  },
  {
   "cell_type": "markdown",
   "id": "57c2afec",
   "metadata": {},
   "source": [
    "#     \n",
    "#\n",
    "#\n",
    "#\n",
    "#"
   ]
  },
  {
   "cell_type": "markdown",
   "id": "20ea781c",
   "metadata": {},
   "source": [
    "# Profitable Auctions"
   ]
  },
  {
   "cell_type": "code",
   "execution_count": 20,
   "id": "ef220ecf",
   "metadata": {},
   "outputs": [],
   "source": [
    "list = []\n",
    "for i in range(len(df)):\n",
    "    if df['bid'][i]<df['price'][i]:\n",
    "        list.append([df['auctionid'][i],df['bid'][i],df['bidtime'][i],df['bidder'][i],df['bidderrate'][i],df['openbid'][i],df['price'][i],df['item'][i],df['auction_type'][i]])"
   ]
  },
  {
   "cell_type": "markdown",
   "id": "f0fbd9f3",
   "metadata": {},
   "source": [
    "## Creating new Data Table for profitable items"
   ]
  },
  {
   "cell_type": "code",
   "execution_count": 22,
   "id": "fbd7326a",
   "metadata": {},
   "outputs": [
    {
     "data": {
      "application/javascript": [
       "\n",
       "        if (window._pyforest_update_imports_cell) { window._pyforest_update_imports_cell('import pandas as pd'); }\n",
       "    "
      ],
      "text/plain": [
       "<IPython.core.display.Javascript object>"
      ]
     },
     "metadata": {},
     "output_type": "display_data"
    },
    {
     "data": {
      "text/html": [
       "<div>\n",
       "<style scoped>\n",
       "    .dataframe tbody tr th:only-of-type {\n",
       "        vertical-align: middle;\n",
       "    }\n",
       "\n",
       "    .dataframe tbody tr th {\n",
       "        vertical-align: top;\n",
       "    }\n",
       "\n",
       "    .dataframe thead th {\n",
       "        text-align: right;\n",
       "    }\n",
       "</style>\n",
       "<table border=\"1\" class=\"dataframe\">\n",
       "  <thead>\n",
       "    <tr style=\"text-align: right;\">\n",
       "      <th></th>\n",
       "      <th>auctionid</th>\n",
       "      <th>bid</th>\n",
       "      <th>bidtime</th>\n",
       "      <th>bidder</th>\n",
       "      <th>bidderrate</th>\n",
       "      <th>openbid</th>\n",
       "      <th>price</th>\n",
       "      <th>item</th>\n",
       "      <th>auction_type</th>\n",
       "    </tr>\n",
       "  </thead>\n",
       "  <tbody>\n",
       "    <tr>\n",
       "      <th>0</th>\n",
       "      <td>1638893549</td>\n",
       "      <td>175.0</td>\n",
       "      <td>2.230949</td>\n",
       "      <td>schadenfreud</td>\n",
       "      <td>0.0</td>\n",
       "      <td>99.00</td>\n",
       "      <td>177.50</td>\n",
       "      <td>Cartier wristwatch</td>\n",
       "      <td>3 day auction</td>\n",
       "    </tr>\n",
       "    <tr>\n",
       "      <th>1</th>\n",
       "      <td>1638893549</td>\n",
       "      <td>100.0</td>\n",
       "      <td>2.600116</td>\n",
       "      <td>chuik</td>\n",
       "      <td>0.0</td>\n",
       "      <td>99.00</td>\n",
       "      <td>177.50</td>\n",
       "      <td>Cartier wristwatch</td>\n",
       "      <td>3 day auction</td>\n",
       "    </tr>\n",
       "    <tr>\n",
       "      <th>2</th>\n",
       "      <td>1638893549</td>\n",
       "      <td>120.0</td>\n",
       "      <td>2.600810</td>\n",
       "      <td>kiwisstuff</td>\n",
       "      <td>2.0</td>\n",
       "      <td>99.00</td>\n",
       "      <td>177.50</td>\n",
       "      <td>Cartier wristwatch</td>\n",
       "      <td>3 day auction</td>\n",
       "    </tr>\n",
       "    <tr>\n",
       "      <th>3</th>\n",
       "      <td>1638893549</td>\n",
       "      <td>150.0</td>\n",
       "      <td>2.601076</td>\n",
       "      <td>kiwisstuff</td>\n",
       "      <td>2.0</td>\n",
       "      <td>99.00</td>\n",
       "      <td>177.50</td>\n",
       "      <td>Cartier wristwatch</td>\n",
       "      <td>3 day auction</td>\n",
       "    </tr>\n",
       "    <tr>\n",
       "      <th>4</th>\n",
       "      <td>1639453840</td>\n",
       "      <td>1.0</td>\n",
       "      <td>0.355856</td>\n",
       "      <td>bfalconb</td>\n",
       "      <td>2.0</td>\n",
       "      <td>1.00</td>\n",
       "      <td>355.00</td>\n",
       "      <td>Cartier wristwatch</td>\n",
       "      <td>3 day auction</td>\n",
       "    </tr>\n",
       "    <tr>\n",
       "      <th>...</th>\n",
       "      <td>...</td>\n",
       "      <td>...</td>\n",
       "      <td>...</td>\n",
       "      <td>...</td>\n",
       "      <td>...</td>\n",
       "      <td>...</td>\n",
       "      <td>...</td>\n",
       "      <td>...</td>\n",
       "      <td>...</td>\n",
       "    </tr>\n",
       "    <tr>\n",
       "      <th>9962</th>\n",
       "      <td>8214889177</td>\n",
       "      <td>50.0</td>\n",
       "      <td>5.013889</td>\n",
       "      <td>bax3family</td>\n",
       "      <td>3.0</td>\n",
       "      <td>0.01</td>\n",
       "      <td>90.01</td>\n",
       "      <td>Xbox game console</td>\n",
       "      <td>7 day auction</td>\n",
       "    </tr>\n",
       "    <tr>\n",
       "      <th>9963</th>\n",
       "      <td>8214889177</td>\n",
       "      <td>61.0</td>\n",
       "      <td>6.359155</td>\n",
       "      <td>714ark</td>\n",
       "      <td>15.0</td>\n",
       "      <td>0.01</td>\n",
       "      <td>90.01</td>\n",
       "      <td>Xbox game console</td>\n",
       "      <td>7 day auction</td>\n",
       "    </tr>\n",
       "    <tr>\n",
       "      <th>9964</th>\n",
       "      <td>8214889177</td>\n",
       "      <td>76.0</td>\n",
       "      <td>6.359294</td>\n",
       "      <td>rjdorman</td>\n",
       "      <td>1.0</td>\n",
       "      <td>0.01</td>\n",
       "      <td>90.01</td>\n",
       "      <td>Xbox game console</td>\n",
       "      <td>7 day auction</td>\n",
       "    </tr>\n",
       "    <tr>\n",
       "      <th>9965</th>\n",
       "      <td>8214889177</td>\n",
       "      <td>90.0</td>\n",
       "      <td>6.428738</td>\n",
       "      <td>baylorjeep</td>\n",
       "      <td>3.0</td>\n",
       "      <td>0.01</td>\n",
       "      <td>90.01</td>\n",
       "      <td>Xbox game console</td>\n",
       "      <td>7 day auction</td>\n",
       "    </tr>\n",
       "    <tr>\n",
       "      <th>9966</th>\n",
       "      <td>8214889177</td>\n",
       "      <td>88.0</td>\n",
       "      <td>6.760081</td>\n",
       "      <td>jasonjasonparis</td>\n",
       "      <td>18.0</td>\n",
       "      <td>0.01</td>\n",
       "      <td>90.01</td>\n",
       "      <td>Xbox game console</td>\n",
       "      <td>7 day auction</td>\n",
       "    </tr>\n",
       "  </tbody>\n",
       "</table>\n",
       "<p>9967 rows × 9 columns</p>\n",
       "</div>"
      ],
      "text/plain": [
       "       auctionid    bid   bidtime           bidder  bidderrate  openbid  \\\n",
       "0     1638893549  175.0  2.230949     schadenfreud         0.0    99.00   \n",
       "1     1638893549  100.0  2.600116            chuik         0.0    99.00   \n",
       "2     1638893549  120.0  2.600810       kiwisstuff         2.0    99.00   \n",
       "3     1638893549  150.0  2.601076       kiwisstuff         2.0    99.00   \n",
       "4     1639453840    1.0  0.355856         bfalconb         2.0     1.00   \n",
       "...          ...    ...       ...              ...         ...      ...   \n",
       "9962  8214889177   50.0  5.013889       bax3family         3.0     0.01   \n",
       "9963  8214889177   61.0  6.359155           714ark        15.0     0.01   \n",
       "9964  8214889177   76.0  6.359294         rjdorman         1.0     0.01   \n",
       "9965  8214889177   90.0  6.428738       baylorjeep         3.0     0.01   \n",
       "9966  8214889177   88.0  6.760081  jasonjasonparis        18.0     0.01   \n",
       "\n",
       "       price                item   auction_type  \n",
       "0     177.50  Cartier wristwatch  3 day auction  \n",
       "1     177.50  Cartier wristwatch  3 day auction  \n",
       "2     177.50  Cartier wristwatch  3 day auction  \n",
       "3     177.50  Cartier wristwatch  3 day auction  \n",
       "4     355.00  Cartier wristwatch  3 day auction  \n",
       "...      ...                 ...            ...  \n",
       "9962   90.01   Xbox game console  7 day auction  \n",
       "9963   90.01   Xbox game console  7 day auction  \n",
       "9964   90.01   Xbox game console  7 day auction  \n",
       "9965   90.01   Xbox game console  7 day auction  \n",
       "9966   90.01   Xbox game console  7 day auction  \n",
       "\n",
       "[9967 rows x 9 columns]"
      ]
     },
     "execution_count": 22,
     "metadata": {},
     "output_type": "execute_result"
    }
   ],
   "source": [
    "profitable_df=pd.DataFrame(list)\n",
    "profitable_df.set_axis(['auctionid','bid','bidtime','bidder','bidderrate','openbid','price','item','auction_type'], axis='columns', inplace=True)\n",
    "profitable_df"
   ]
  },
  {
   "cell_type": "markdown",
   "id": "d7cbdef2",
   "metadata": {},
   "source": [
    "## Exporting all data to a new csv file"
   ]
  },
  {
   "cell_type": "code",
   "execution_count": 23,
   "id": "5ed39fca",
   "metadata": {},
   "outputs": [],
   "source": [
    "profitable_df.to_csv('Profitable Data.csv')"
   ]
  },
  {
   "cell_type": "code",
   "execution_count": null,
   "id": "0a9bd499",
   "metadata": {},
   "outputs": [],
   "source": []
  }
 ],
 "metadata": {
  "kernelspec": {
   "display_name": "Python 3 (ipykernel)",
   "language": "python",
   "name": "python3"
  },
  "language_info": {
   "codemirror_mode": {
    "name": "ipython",
    "version": 3
   },
   "file_extension": ".py",
   "mimetype": "text/x-python",
   "name": "python",
   "nbconvert_exporter": "python",
   "pygments_lexer": "ipython3",
   "version": "3.9.12"
  }
 },
 "nbformat": 4,
 "nbformat_minor": 5
}
